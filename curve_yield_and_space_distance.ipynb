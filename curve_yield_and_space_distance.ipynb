{
  "nbformat": 4,
  "nbformat_minor": 0,
  "metadata": {
    "colab": {
      "name": "curve yield and space distance.ipynb",
      "provenance": [],
      "authorship_tag": "ABX9TyOI+2fAo16IyVCbiebdBOWD",
      "include_colab_link": true
    },
    "kernelspec": {
      "name": "python3",
      "display_name": "Python 3"
    },
    "language_info": {
      "name": "python"
    }
  },
  "cells": [
    {
      "cell_type": "markdown",
      "metadata": {
        "id": "view-in-github",
        "colab_type": "text"
      },
      "source": [
        "<a href=\"https://colab.research.google.com/github/wangjiatao/curve_yield_and_space_distance/blob/main/curve_yield_and_space_distance.ipynb\" target=\"_parent\"><img src=\"https://colab.research.google.com/assets/colab-badge.svg\" alt=\"Open In Colab\"/></a>"
      ]
    },
    {
      "cell_type": "code",
      "metadata": {
        "colab": {
          "base_uri": "https://localhost:8080/"
        },
        "id": "1HDQEtglGL7U",
        "outputId": "1f3fe949-1436-4484-b705-6443155080c9"
      },
      "source": [
        "pip install akshare --upgrade"
      ],
      "execution_count": null,
      "outputs": [
        {
          "output_type": "stream",
          "text": [
            "Requirement already up-to-date: akshare in /usr/local/lib/python3.7/dist-packages (0.8.40)\n",
            "Requirement already satisfied, skipping upgrade: lxml>=4.2.1 in /usr/local/lib/python3.7/dist-packages (from akshare) (4.6.2)\n",
            "Requirement already satisfied, skipping upgrade: tqdm>=4.43.0 in /usr/local/lib/python3.7/dist-packages (from akshare) (4.59.0)\n",
            "Requirement already satisfied, skipping upgrade: matplotlib>=3.1.1 in /usr/local/lib/python3.7/dist-packages (from akshare) (3.2.2)\n",
            "Requirement already satisfied, skipping upgrade: openpyxl>=3.0.3 in /usr/local/lib/python3.7/dist-packages (from akshare) (3.0.7)\n",
            "Requirement already satisfied, skipping upgrade: pandas>=0.25 in /usr/local/lib/python3.7/dist-packages (from akshare) (1.1.5)\n",
            "Requirement already satisfied, skipping upgrade: demjson>=2.2.4 in /usr/local/lib/python3.7/dist-packages (from akshare) (2.2.4)\n",
            "Requirement already satisfied, skipping upgrade: beautifulsoup4>=4.9.1 in /usr/local/lib/python3.7/dist-packages (from akshare) (4.9.3)\n",
            "Requirement already satisfied, skipping upgrade: html5lib>=1.0.1 in /usr/local/lib/python3.7/dist-packages (from akshare) (1.0.1)\n",
            "Requirement already satisfied, skipping upgrade: tabulate>=0.8.6 in /usr/local/lib/python3.7/dist-packages (from akshare) (0.8.9)\n",
            "Requirement already satisfied, skipping upgrade: decorator>=4.4.2 in /usr/local/lib/python3.7/dist-packages (from akshare) (4.4.2)\n",
            "Requirement already satisfied, skipping upgrade: xlrd==1.2.0 in /usr/local/lib/python3.7/dist-packages (from akshare) (1.2.0)\n",
            "Requirement already satisfied, skipping upgrade: jsonpath>=0.82 in /usr/local/lib/python3.7/dist-packages (from akshare) (0.82)\n",
            "Requirement already satisfied, skipping upgrade: pypinyin>=0.35.0 in /usr/local/lib/python3.7/dist-packages (from akshare) (0.41.0)\n",
            "Requirement already satisfied, skipping upgrade: py-mini-racer>=0.4.0 in /usr/local/lib/python3.7/dist-packages (from akshare) (0.5.0)\n",
            "Requirement already satisfied, skipping upgrade: numpy>=1.15.4 in /usr/local/lib/python3.7/dist-packages (from akshare) (1.19.5)\n",
            "Requirement already satisfied, skipping upgrade: pillow>=6.2.0 in /usr/local/lib/python3.7/dist-packages (from akshare) (7.0.0)\n",
            "Requirement already satisfied, skipping upgrade: websocket-client>=0.56.0 in /usr/local/lib/python3.7/dist-packages (from akshare) (0.58.0)\n",
            "Requirement already satisfied, skipping upgrade: requests>=2.22.0 in /usr/local/lib/python3.7/dist-packages (from akshare) (2.23.0)\n",
            "Requirement already satisfied, skipping upgrade: python-dateutil>=2.1 in /usr/local/lib/python3.7/dist-packages (from matplotlib>=3.1.1->akshare) (2.8.1)\n",
            "Requirement already satisfied, skipping upgrade: pyparsing!=2.0.4,!=2.1.2,!=2.1.6,>=2.0.1 in /usr/local/lib/python3.7/dist-packages (from matplotlib>=3.1.1->akshare) (2.4.7)\n",
            "Requirement already satisfied, skipping upgrade: cycler>=0.10 in /usr/local/lib/python3.7/dist-packages (from matplotlib>=3.1.1->akshare) (0.10.0)\n",
            "Requirement already satisfied, skipping upgrade: kiwisolver>=1.0.1 in /usr/local/lib/python3.7/dist-packages (from matplotlib>=3.1.1->akshare) (1.3.1)\n",
            "Requirement already satisfied, skipping upgrade: et-xmlfile in /usr/local/lib/python3.7/dist-packages (from openpyxl>=3.0.3->akshare) (1.0.1)\n",
            "Requirement already satisfied, skipping upgrade: pytz>=2017.2 in /usr/local/lib/python3.7/dist-packages (from pandas>=0.25->akshare) (2021.1)\n",
            "Requirement already satisfied, skipping upgrade: soupsieve>1.2; python_version >= \"3.0\" in /usr/local/lib/python3.7/dist-packages (from beautifulsoup4>=4.9.1->akshare) (2.2.1)\n",
            "Requirement already satisfied, skipping upgrade: webencodings in /usr/local/lib/python3.7/dist-packages (from html5lib>=1.0.1->akshare) (0.5.1)\n",
            "Requirement already satisfied, skipping upgrade: six>=1.9 in /usr/local/lib/python3.7/dist-packages (from html5lib>=1.0.1->akshare) (1.15.0)\n",
            "Requirement already satisfied, skipping upgrade: chardet<4,>=3.0.2 in /usr/local/lib/python3.7/dist-packages (from requests>=2.22.0->akshare) (3.0.4)\n",
            "Requirement already satisfied, skipping upgrade: certifi>=2017.4.17 in /usr/local/lib/python3.7/dist-packages (from requests>=2.22.0->akshare) (2020.12.5)\n",
            "Requirement already satisfied, skipping upgrade: idna<3,>=2.5 in /usr/local/lib/python3.7/dist-packages (from requests>=2.22.0->akshare) (2.10)\n",
            "Requirement already satisfied, skipping upgrade: urllib3!=1.25.0,!=1.25.1,<1.26,>=1.21.1 in /usr/local/lib/python3.7/dist-packages (from requests>=2.22.0->akshare) (1.24.3)\n"
          ],
          "name": "stdout"
        }
      ]
    },
    {
      "cell_type": "code",
      "metadata": {
        "colab": {
          "base_uri": "https://localhost:8080/"
        },
        "id": "--lbeiPsGeig",
        "outputId": "1bae4b47-bede-4ff8-a406-53781b01e681"
      },
      "source": [
        "import pandas as pd \n",
        "import akshare as ak\n",
        "import numpy as np \n",
        "\n",
        "bondzmdf=ak.bond_zh_us_rate()\n",
        "totaltw=500\n",
        "bondzm=bondzmdf.iloc[0:totaltw,:]\n",
        "\n",
        "\n"
      ],
      "execution_count": null,
      "outputs": [
        {
          "output_type": "stream",
          "text": [
            "100%|██████████| 16/16 [00:05<00:00,  2.72it/s]\n"
          ],
          "name": "stderr"
        }
      ]
    },
    {
      "cell_type": "code",
      "metadata": {
        "id": "-V5dQsKpJE3U"
      },
      "source": [
        "bcdf=bondzm.iloc[:,[1,3]]\n",
        "bcdf.dropna(inplace=True)\n",
        "bc2=bcdf.iloc[0:totaltw, 0] # non reverse pd\n",
        "bc10=bcdf.iloc[0:totaltw, 1]\n",
        "\n",
        "b2v, b10v=np.array(bc2), np.array(bc10)\n",
        "\n",
        "idx_tw=0\n",
        "tw=10\n",
        "eud_c=np.zeros(int(totaltw/10))\n",
        "\n",
        "for idx_tw in range(int(totaltw/10)):\n",
        "\tb2v_temp, b10v_temp=b2v[idx_tw:idx_tw+9], b10v[idx_tw:idx_tw+9]\n",
        "\teud_temp=np.linalg.norm(b10v_temp-b2v_temp,ord=1)\n",
        "\teud_c[idx_tw]=eud_temp\n",
        "\tidx_tw=idx_tw+1;\n",
        "\n",
        "eudc=eud_c[::-1]"
      ],
      "execution_count": null,
      "outputs": []
    },
    {
      "cell_type": "code",
      "metadata": {
        "colab": {
          "base_uri": "https://localhost:8080/",
          "height": 298
        },
        "id": "yFFdc05dIG_K",
        "outputId": "b86afe21-8f00-415f-98a5-07b329306c7c"
      },
      "source": [
        "import matplotlib.pyplot as plt\n",
        "plt.figure()\n",
        "plt.title(str(totaltw))\n",
        "myfig=plt.gcf()\n",
        "plt.plot(eudc)"
      ],
      "execution_count": null,
      "outputs": [
        {
          "output_type": "execute_result",
          "data": {
            "text/plain": [
              "[<matplotlib.lines.Line2D at 0x7fcd0d044a90>]"
            ]
          },
          "metadata": {
            "tags": []
          },
          "execution_count": 148
        },
        {
          "output_type": "display_data",
          "data": {
            "image/png": "[encoded data removed]",
            "text/plain": [
              "<Figure size 432x288 with 1 Axes>"
            ]
          },
          "metadata": {
            "tags": [],
            "needs_background": "light"
          }
        }
      ]
    }
  ]
}