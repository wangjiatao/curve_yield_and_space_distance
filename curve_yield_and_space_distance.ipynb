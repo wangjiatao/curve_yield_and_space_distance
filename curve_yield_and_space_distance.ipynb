{
  "nbformat": 4,
  "nbformat_minor": 0,
  "metadata": {
    "colab": {
      "name": "curve yield and space distance.ipynb",
      "provenance": [],
      "collapsed_sections": [],
      "authorship_tag": "ABX9TyNQDVbYuxp6OZxl/oLeYH6c",
      "include_colab_link": true
    },
    "kernelspec": {
      "name": "python3",
      "display_name": "Python 3"
    },
    "language_info": {
      "name": "python"
    }
  },
  "cells": [
    {
      "cell_type": "markdown",
      "metadata": {
        "id": "view-in-github",
        "colab_type": "text"
      },
      "source": [
        "<a href=\"https://colab.research.google.com/github/wangjiatao/curve_yield_and_space_distance/blob/main/curve_yield_and_space_distance.ipynb\" target=\"_parent\"><img src=\"https://colab.research.google.com/assets/colab-badge.svg\" alt=\"Open In Colab\"/></a>"
      ]
    },
    {
      "cell_type": "code",
      "metadata": {
        "colab": {
          "base_uri": "https://localhost:8080/"
        },
        "id": "1HDQEtglGL7U",
        "outputId": "a4270f76-7844-48e8-a9b7-66cefb0adc25"
      },
      "source": [
        "pip install akshare --upgrade"
      ],
      "execution_count": 150,
      "outputs": [
        {
          "output_type": "stream",
          "text": [
            "Requirement already up-to-date: akshare in /usr/local/lib/python3.7/dist-packages (0.8.40)\n",
            "Requirement already satisfied, skipping upgrade: lxml>=4.2.1 in /usr/local/lib/python3.7/dist-packages (from akshare) (4.6.2)\n",
            "Requirement already satisfied, skipping upgrade: websocket-client>=0.56.0 in /usr/local/lib/python3.7/dist-packages (from akshare) (0.58.0)\n",
            "Requirement already satisfied, skipping upgrade: pypinyin>=0.35.0 in /usr/local/lib/python3.7/dist-packages (from akshare) (0.41.0)\n",
            "Requirement already satisfied, skipping upgrade: tabulate>=0.8.6 in /usr/local/lib/python3.7/dist-packages (from akshare) (0.8.9)\n",
            "Requirement already satisfied, skipping upgrade: demjson>=2.2.4 in /usr/local/lib/python3.7/dist-packages (from akshare) (2.2.4)\n",
            "Requirement already satisfied, skipping upgrade: py-mini-racer>=0.4.0 in /usr/local/lib/python3.7/dist-packages (from akshare) (0.5.0)\n",
            "Requirement already satisfied, skipping upgrade: pandas>=0.25 in /usr/local/lib/python3.7/dist-packages (from akshare) (1.1.5)\n",
            "Requirement already satisfied, skipping upgrade: html5lib>=1.0.1 in /usr/local/lib/python3.7/dist-packages (from akshare) (1.0.1)\n",
            "Requirement already satisfied, skipping upgrade: tqdm>=4.43.0 in /usr/local/lib/python3.7/dist-packages (from akshare) (4.59.0)\n",
            "Requirement already satisfied, skipping upgrade: decorator>=4.4.2 in /usr/local/lib/python3.7/dist-packages (from akshare) (4.4.2)\n",
            "Requirement already satisfied, skipping upgrade: pillow>=6.2.0 in /usr/local/lib/python3.7/dist-packages (from akshare) (7.0.0)\n",
            "Requirement already satisfied, skipping upgrade: matplotlib>=3.1.1 in /usr/local/lib/python3.7/dist-packages (from akshare) (3.2.2)\n",
            "Requirement already satisfied, skipping upgrade: xlrd==1.2.0 in /usr/local/lib/python3.7/dist-packages (from akshare) (1.2.0)\n",
            "Requirement already satisfied, skipping upgrade: requests>=2.22.0 in /usr/local/lib/python3.7/dist-packages (from akshare) (2.23.0)\n",
            "Requirement already satisfied, skipping upgrade: jsonpath>=0.82 in /usr/local/lib/python3.7/dist-packages (from akshare) (0.82)\n",
            "Requirement already satisfied, skipping upgrade: numpy>=1.15.4 in /usr/local/lib/python3.7/dist-packages (from akshare) (1.19.5)\n",
            "Requirement already satisfied, skipping upgrade: openpyxl>=3.0.3 in /usr/local/lib/python3.7/dist-packages (from akshare) (3.0.7)\n",
            "Requirement already satisfied, skipping upgrade: beautifulsoup4>=4.9.1 in /usr/local/lib/python3.7/dist-packages (from akshare) (4.9.3)\n",
            "Requirement already satisfied, skipping upgrade: six in /usr/local/lib/python3.7/dist-packages (from websocket-client>=0.56.0->akshare) (1.15.0)\n",
            "Requirement already satisfied, skipping upgrade: pytz>=2017.2 in /usr/local/lib/python3.7/dist-packages (from pandas>=0.25->akshare) (2021.1)\n",
            "Requirement already satisfied, skipping upgrade: python-dateutil>=2.7.3 in /usr/local/lib/python3.7/dist-packages (from pandas>=0.25->akshare) (2.8.1)\n",
            "Requirement already satisfied, skipping upgrade: webencodings in /usr/local/lib/python3.7/dist-packages (from html5lib>=1.0.1->akshare) (0.5.1)\n",
            "Requirement already satisfied, skipping upgrade: cycler>=0.10 in /usr/local/lib/python3.7/dist-packages (from matplotlib>=3.1.1->akshare) (0.10.0)\n",
            "Requirement already satisfied, skipping upgrade: pyparsing!=2.0.4,!=2.1.2,!=2.1.6,>=2.0.1 in /usr/local/lib/python3.7/dist-packages (from matplotlib>=3.1.1->akshare) (2.4.7)\n",
            "Requirement already satisfied, skipping upgrade: kiwisolver>=1.0.1 in /usr/local/lib/python3.7/dist-packages (from matplotlib>=3.1.1->akshare) (1.3.1)\n",
            "Requirement already satisfied, skipping upgrade: chardet<4,>=3.0.2 in /usr/local/lib/python3.7/dist-packages (from requests>=2.22.0->akshare) (3.0.4)\n",
            "Requirement already satisfied, skipping upgrade: idna<3,>=2.5 in /usr/local/lib/python3.7/dist-packages (from requests>=2.22.0->akshare) (2.10)\n",
            "Requirement already satisfied, skipping upgrade: certifi>=2017.4.17 in /usr/local/lib/python3.7/dist-packages (from requests>=2.22.0->akshare) (2020.12.5)\n",
            "Requirement already satisfied, skipping upgrade: urllib3!=1.25.0,!=1.25.1,<1.26,>=1.21.1 in /usr/local/lib/python3.7/dist-packages (from requests>=2.22.0->akshare) (1.24.3)\n",
            "Requirement already satisfied, skipping upgrade: et-xmlfile in /usr/local/lib/python3.7/dist-packages (from openpyxl>=3.0.3->akshare) (1.0.1)\n",
            "Requirement already satisfied, skipping upgrade: soupsieve>1.2; python_version >= \"3.0\" in /usr/local/lib/python3.7/dist-packages (from beautifulsoup4>=4.9.1->akshare) (2.2.1)\n"
          ],
          "name": "stdout"
        }
      ]
    },
    {
      "cell_type": "code",
      "metadata": {
        "colab": {
          "base_uri": "https://localhost:8080/"
        },
        "id": "--lbeiPsGeig",
        "outputId": "1bae4b47-bede-4ff8-a406-53781b01e681"
      },
      "source": [
        "import pandas as pd \n",
        "import akshare as ak\n",
        "import numpy as np \n",
        "\n",
        "bondzmdf=ak.bond_zh_us_rate()\n",
        "totaltw=500\n",
        "bondzm=bondzmdf.iloc[0:totaltw,:]\n",
        "\n",
        "\n"
      ],
      "execution_count": null,
      "outputs": [
        {
          "output_type": "stream",
          "text": [
            "100%|██████████| 16/16 [00:05<00:00,  2.72it/s]\n"
          ],
          "name": "stderr"
        }
      ]
    },
    {
      "cell_type": "code",
      "metadata": {
        "id": "-V5dQsKpJE3U"
      },
      "source": [
        "bcdf=bondzm.iloc[:,[1,3]]\n",
        "bcdf.dropna(inplace=True)\n",
        "bc2=bcdf.iloc[0:totaltw, 0] # non reverse pd\n",
        "bc10=bcdf.iloc[0:totaltw, 1]\n",
        "\n",
        "b2v, b10v=np.array(bc2), np.array(bc10)\n",
        "\n",
        "idx_tw=0\n",
        "tw=10\n",
        "eud_c=np.zeros(int(totaltw/10))\n",
        "\n",
        "for idx_tw in range(int(totaltw/10)):\n",
        "\tb2v_temp, b10v_temp=b2v[idx_tw:idx_tw+9], b10v[idx_tw:idx_tw+9]\n",
        "\teud_temp=np.linalg.norm(b10v_temp-b2v_temp,ord=1)\n",
        "\teud_c[idx_tw]=eud_temp\n",
        "\tidx_tw=idx_tw+1;\n",
        "\n",
        "eudc=eud_c[::-1]"
      ],
      "execution_count": null,
      "outputs": []
    },
    {
      "cell_type": "code",
      "metadata": {
        "colab": {
          "base_uri": "https://localhost:8080/",
          "height": 298
        },
        "id": "yFFdc05dIG_K",
        "outputId": "b86afe21-8f00-415f-98a5-07b329306c7c"
      },
      "source": [
        "import matplotlib.pyplot as plt\n",
        "plt.figure()\n",
        "plt.title(str(totaltw))\n",
        "myfig=plt.gcf()\n",
        "plt.plot(eudc)"
      ],
      "execution_count": null,
      "outputs": [
        {
          "output_type": "execute_result",
          "data": {
            "text/plain": [
              "[<matplotlib.lines.Line2D at 0x7fcd0d044a90>]"
            ]
          },
          "metadata": {
            "tags": []
          },
          "execution_count": 148
        },
        {
          "output_type": "display_data",
          "data": {
            "image/png": "[encoded data removed]",
            "text/plain": [
              "<Figure size 432x288 with 1 Axes>"
            ]
          },
          "metadata": {
            "tags": [],
            "needs_background": "light"
          }
        }
      ]
    },
    {
      "cell_type": "markdown",
      "metadata": {
        "id": "dU0frtYYYKsv"
      },
      "source": [
        "## us"
      ]
    },
    {
      "cell_type": "code",
      "metadata": {
        "colab": {
          "base_uri": "https://localhost:8080/"
        },
        "id": "767yu8VeYV2x",
        "outputId": "4202df7d-ff2c-4e8d-c862-ce7af4cc7a00"
      },
      "source": [
        "import pandas as pd \n",
        "import akshare as ak\n",
        "import numpy as np \n",
        "\n",
        "bondzmdf=ak.bond_zh_us_rate()\n",
        "totaltw=2000\n",
        "bondzm=bondzmdf.iloc[0:totaltw,:]"
      ],
      "execution_count": 168,
      "outputs": [
        {
          "output_type": "stream",
          "text": [
            "100%|██████████| 16/16 [00:06<00:00,  2.65it/s]\n"
          ],
          "name": "stderr"
        }
      ]
    },
    {
      "cell_type": "code",
      "metadata": {
        "colab": {
          "base_uri": "https://localhost:8080/",
          "height": 298
        },
        "id": "RikhJNIXYZ5O",
        "outputId": "b74c9781-524e-483a-a24d-6a10c7567ee9"
      },
      "source": [
        "busdf=bondzm.iloc[:,[7,9]]\n",
        "busdf.dropna(inplace=True)\n",
        "bus2=busdf.iloc[0:totaltw, 0] # non reverse pd\n",
        "bus10=busdf.iloc[0:totaltw, 1]\n",
        "\n",
        "b2v, b10v=np.array(bus2), np.array(bus10)\n",
        "\n",
        "idx_tw=0\n",
        "tw=10\n",
        "eud_us=np.zeros(int(totaltw/10))\n",
        "\n",
        "for idx_tw in range(int(totaltw/10)):\n",
        "\tb2v_temp, b10v_temp=b2v[idx_tw:idx_tw+9], b10v[idx_tw:idx_tw+9]\n",
        "\teud_temp=np.linalg.norm(b10v_temp-b2v_temp,ord=1)\n",
        "\teud_us[idx_tw]=eud_temp\n",
        "\tidx_tw=idx_tw+1;\n",
        "\n",
        "eudus=eud_us[::-1]\n",
        "\n",
        "import matplotlib.pyplot as plt\n",
        "plt.figure()\n",
        "plt.title(str(totaltw))\n",
        "myfig=plt.gcf()\n",
        "plt.plot(eudus)"
      ],
      "execution_count": 169,
      "outputs": [
        {
          "output_type": "execute_result",
          "data": {
            "text/plain": [
              "[<matplotlib.lines.Line2D at 0x7fcd0c553110>]"
            ]
          },
          "metadata": {
            "tags": []
          },
          "execution_count": 169
        },
        {
          "output_type": "display_data",
          "data": {
            "image/png": "[encoded data removed]",
            "text/plain": [
              "<Figure size 432x288 with 1 Axes>"
            ]
          },
          "metadata": {
            "tags": [],
            "needs_background": "light"
          }
        }
      ]
    },
    {
      "cell_type": "code",
      "metadata": {
        "colab": {
          "base_uri": "https://localhost:8080/",
          "height": 419
        },
        "id": "eBLDAeaYaopP",
        "outputId": "6a7cd61f-5ca9-4810-a31f-befbad146964"
      },
      "source": [
        "busdf"
      ],
      "execution_count": 161,
      "outputs": [
        {
          "output_type": "execute_result",
          "data": {
            "text/html": [
              "<div>\n",
              "<style scoped>\n",
              "    .dataframe tbody tr th:only-of-type {\n",
              "        vertical-align: middle;\n",
              "    }\n",
              "\n",
              "    .dataframe tbody tr th {\n",
              "        vertical-align: top;\n",
              "    }\n",
              "\n",
              "    .dataframe thead th {\n",
              "        text-align: right;\n",
              "    }\n",
              "</style>\n",
              "<table border=\"1\" class=\"dataframe\">\n",
              "  <thead>\n",
              "    <tr style=\"text-align: right;\">\n",
              "      <th></th>\n",
              "      <th>美国国债收益率2年</th>\n",
              "      <th>美国国债收益率10年</th>\n",
              "    </tr>\n",
              "  </thead>\n",
              "  <tbody>\n",
              "    <tr>\n",
              "      <th>1</th>\n",
              "      <td>0.86</td>\n",
              "      <td>2.45</td>\n",
              "    </tr>\n",
              "    <tr>\n",
              "      <th>2</th>\n",
              "      <td>0.80</td>\n",
              "      <td>2.42</td>\n",
              "    </tr>\n",
              "    <tr>\n",
              "      <th>3</th>\n",
              "      <td>0.83</td>\n",
              "      <td>2.38</td>\n",
              "    </tr>\n",
              "    <tr>\n",
              "      <th>4</th>\n",
              "      <td>0.84</td>\n",
              "      <td>2.37</td>\n",
              "    </tr>\n",
              "    <tr>\n",
              "      <th>5</th>\n",
              "      <td>0.85</td>\n",
              "      <td>2.40</td>\n",
              "    </tr>\n",
              "    <tr>\n",
              "      <th>...</th>\n",
              "      <td>...</td>\n",
              "      <td>...</td>\n",
              "    </tr>\n",
              "    <tr>\n",
              "      <th>494</th>\n",
              "      <td>2.28</td>\n",
              "      <td>2.89</td>\n",
              "    </tr>\n",
              "    <tr>\n",
              "      <th>495</th>\n",
              "      <td>2.25</td>\n",
              "      <td>2.86</td>\n",
              "    </tr>\n",
              "    <tr>\n",
              "      <th>496</th>\n",
              "      <td>2.30</td>\n",
              "      <td>2.91</td>\n",
              "    </tr>\n",
              "    <tr>\n",
              "      <th>498</th>\n",
              "      <td>2.33</td>\n",
              "      <td>2.93</td>\n",
              "    </tr>\n",
              "    <tr>\n",
              "      <th>499</th>\n",
              "      <td>2.34</td>\n",
              "      <td>2.94</td>\n",
              "    </tr>\n",
              "  </tbody>\n",
              "</table>\n",
              "<p>470 rows × 2 columns</p>\n",
              "</div>"
            ],
            "text/plain": [
              "     美国国债收益率2年  美国国债收益率10年\n",
              "1         0.86        2.45\n",
              "2         0.80        2.42\n",
              "3         0.83        2.38\n",
              "4         0.84        2.37\n",
              "5         0.85        2.40\n",
              "..         ...         ...\n",
              "494       2.28        2.89\n",
              "495       2.25        2.86\n",
              "496       2.30        2.91\n",
              "498       2.33        2.93\n",
              "499       2.34        2.94\n",
              "\n",
              "[470 rows x 2 columns]"
            ]
          },
          "metadata": {
            "tags": []
          },
          "execution_count": 161
        }
      ]
    },
    {
      "cell_type": "code",
      "metadata": {
        "colab": {
          "base_uri": "https://localhost:8080/",
          "height": 606
        },
        "id": "7ZsCUzSAa3B9",
        "outputId": "354839fd-85ff-4499-ecd8-98dc56228e4d"
      },
      "source": [
        "bondzm"
      ],
      "execution_count": 162,
      "outputs": [
        {
          "output_type": "execute_result",
          "data": {
            "text/html": [
              "<div>\n",
              "<style scoped>\n",
              "    .dataframe tbody tr th:only-of-type {\n",
              "        vertical-align: middle;\n",
              "    }\n",
              "\n",
              "    .dataframe tbody tr th {\n",
              "        vertical-align: top;\n",
              "    }\n",
              "\n",
              "    .dataframe thead th {\n",
              "        text-align: right;\n",
              "    }\n",
              "</style>\n",
              "<table border=\"1\" class=\"dataframe\">\n",
              "  <thead>\n",
              "    <tr style=\"text-align: right;\">\n",
              "      <th></th>\n",
              "      <th>日期</th>\n",
              "      <th>中国国债收益率2年</th>\n",
              "      <th>中国国债收益率5年</th>\n",
              "      <th>中国国债收益率10年</th>\n",
              "      <th>中国国债收益率30年</th>\n",
              "      <th>中国国债收益率10年-2年</th>\n",
              "      <th>中国GDP年增率</th>\n",
              "      <th>美国国债收益率2年</th>\n",
              "      <th>美国国债收益率5年</th>\n",
              "      <th>美国国债收益率10年</th>\n",
              "      <th>美国国债收益率30年</th>\n",
              "      <th>美国国债收益率10年-2年</th>\n",
              "      <th>美国GDP年增率</th>\n",
              "    </tr>\n",
              "  </thead>\n",
              "  <tbody>\n",
              "    <tr>\n",
              "      <th>0</th>\n",
              "      <td>2021-03-19</td>\n",
              "      <td>3.0540</td>\n",
              "      <td>3.2364</td>\n",
              "      <td>3.7304</td>\n",
              "      <td>NaN</td>\n",
              "      <td>NaN</td>\n",
              "      <td>NaN</td>\n",
              "      <td>NaN</td>\n",
              "      <td>NaN</td>\n",
              "      <td>NaN</td>\n",
              "      <td>NaN</td>\n",
              "      <td>NaN</td>\n",
              "      <td>NaN</td>\n",
              "    </tr>\n",
              "    <tr>\n",
              "      <th>1</th>\n",
              "      <td>2021-03-18</td>\n",
              "      <td>3.0687</td>\n",
              "      <td>3.2592</td>\n",
              "      <td>3.7428</td>\n",
              "      <td>2.8528</td>\n",
              "      <td>0.16</td>\n",
              "      <td>NaN</td>\n",
              "      <td>0.86</td>\n",
              "      <td>1.71</td>\n",
              "      <td>2.45</td>\n",
              "      <td>1.55</td>\n",
              "      <td>NaN</td>\n",
              "      <td>NaN</td>\n",
              "    </tr>\n",
              "    <tr>\n",
              "      <th>2</th>\n",
              "      <td>2021-03-17</td>\n",
              "      <td>3.0635</td>\n",
              "      <td>3.2564</td>\n",
              "      <td>3.7504</td>\n",
              "      <td>2.8468</td>\n",
              "      <td>0.13</td>\n",
              "      <td>NaN</td>\n",
              "      <td>0.80</td>\n",
              "      <td>1.63</td>\n",
              "      <td>2.42</td>\n",
              "      <td>1.50</td>\n",
              "      <td>0.4096</td>\n",
              "      <td>NaN</td>\n",
              "    </tr>\n",
              "    <tr>\n",
              "      <th>3</th>\n",
              "      <td>2021-03-16</td>\n",
              "      <td>3.0699</td>\n",
              "      <td>3.2614</td>\n",
              "      <td>3.7605</td>\n",
              "      <td>2.8692</td>\n",
              "      <td>0.15</td>\n",
              "      <td>NaN</td>\n",
              "      <td>0.83</td>\n",
              "      <td>1.62</td>\n",
              "      <td>2.38</td>\n",
              "      <td>1.47</td>\n",
              "      <td>0.3922</td>\n",
              "      <td>NaN</td>\n",
              "    </tr>\n",
              "    <tr>\n",
              "      <th>4</th>\n",
              "      <td>2021-03-15</td>\n",
              "      <td>3.0999</td>\n",
              "      <td>3.2740</td>\n",
              "      <td>3.7705</td>\n",
              "      <td>2.8813</td>\n",
              "      <td>0.14</td>\n",
              "      <td>NaN</td>\n",
              "      <td>0.84</td>\n",
              "      <td>1.62</td>\n",
              "      <td>2.37</td>\n",
              "      <td>1.48</td>\n",
              "      <td>0.3927</td>\n",
              "      <td>NaN</td>\n",
              "    </tr>\n",
              "    <tr>\n",
              "      <th>...</th>\n",
              "      <td>...</td>\n",
              "      <td>...</td>\n",
              "      <td>...</td>\n",
              "      <td>...</td>\n",
              "      <td>...</td>\n",
              "      <td>...</td>\n",
              "      <td>...</td>\n",
              "      <td>...</td>\n",
              "      <td>...</td>\n",
              "      <td>...</td>\n",
              "      <td>...</td>\n",
              "      <td>...</td>\n",
              "      <td>...</td>\n",
              "    </tr>\n",
              "    <tr>\n",
              "      <th>495</th>\n",
              "      <td>2019-05-07</td>\n",
              "      <td>3.1628</td>\n",
              "      <td>3.3551</td>\n",
              "      <td>3.9347</td>\n",
              "      <td>2.8939</td>\n",
              "      <td>2.28</td>\n",
              "      <td>NaN</td>\n",
              "      <td>2.25</td>\n",
              "      <td>2.45</td>\n",
              "      <td>2.86</td>\n",
              "      <td>0.17</td>\n",
              "      <td>0.4612</td>\n",
              "      <td>NaN</td>\n",
              "    </tr>\n",
              "    <tr>\n",
              "      <th>496</th>\n",
              "      <td>2019-05-06</td>\n",
              "      <td>3.1467</td>\n",
              "      <td>3.3550</td>\n",
              "      <td>3.9396</td>\n",
              "      <td>2.8602</td>\n",
              "      <td>2.31</td>\n",
              "      <td>NaN</td>\n",
              "      <td>2.30</td>\n",
              "      <td>2.51</td>\n",
              "      <td>2.91</td>\n",
              "      <td>0.20</td>\n",
              "      <td>0.4948</td>\n",
              "      <td>NaN</td>\n",
              "    </tr>\n",
              "    <tr>\n",
              "      <th>497</th>\n",
              "      <td>2019-05-05</td>\n",
              "      <td>3.1949</td>\n",
              "      <td>3.3849</td>\n",
              "      <td>3.9570</td>\n",
              "      <td>2.8918</td>\n",
              "      <td>NaN</td>\n",
              "      <td>NaN</td>\n",
              "      <td>NaN</td>\n",
              "      <td>NaN</td>\n",
              "      <td>NaN</td>\n",
              "      <td>NaN</td>\n",
              "      <td>0.4931</td>\n",
              "      <td>NaN</td>\n",
              "    </tr>\n",
              "    <tr>\n",
              "      <th>498</th>\n",
              "      <td>2019-05-03</td>\n",
              "      <td>NaN</td>\n",
              "      <td>NaN</td>\n",
              "      <td>NaN</td>\n",
              "      <td>NaN</td>\n",
              "      <td>2.33</td>\n",
              "      <td>NaN</td>\n",
              "      <td>2.33</td>\n",
              "      <td>2.54</td>\n",
              "      <td>2.93</td>\n",
              "      <td>0.21</td>\n",
              "      <td>NaN</td>\n",
              "      <td>NaN</td>\n",
              "    </tr>\n",
              "    <tr>\n",
              "      <th>499</th>\n",
              "      <td>2019-05-02</td>\n",
              "      <td>NaN</td>\n",
              "      <td>NaN</td>\n",
              "      <td>NaN</td>\n",
              "      <td>NaN</td>\n",
              "      <td>2.35</td>\n",
              "      <td>NaN</td>\n",
              "      <td>2.34</td>\n",
              "      <td>2.55</td>\n",
              "      <td>2.94</td>\n",
              "      <td>0.20</td>\n",
              "      <td>NaN</td>\n",
              "      <td>NaN</td>\n",
              "    </tr>\n",
              "  </tbody>\n",
              "</table>\n",
              "<p>500 rows × 13 columns</p>\n",
              "</div>"
            ],
            "text/plain": [
              "             日期  中国国债收益率2年  中国国债收益率5年  ...  美国国债收益率30年  美国国债收益率10年-2年  美国GDP年增率\n",
              "0    2021-03-19     3.0540     3.2364  ...         NaN            NaN       NaN\n",
              "1    2021-03-18     3.0687     3.2592  ...        1.55            NaN       NaN\n",
              "2    2021-03-17     3.0635     3.2564  ...        1.50         0.4096       NaN\n",
              "3    2021-03-16     3.0699     3.2614  ...        1.47         0.3922       NaN\n",
              "4    2021-03-15     3.0999     3.2740  ...        1.48         0.3927       NaN\n",
              "..          ...        ...        ...  ...         ...            ...       ...\n",
              "495  2019-05-07     3.1628     3.3551  ...        0.17         0.4612       NaN\n",
              "496  2019-05-06     3.1467     3.3550  ...        0.20         0.4948       NaN\n",
              "497  2019-05-05     3.1949     3.3849  ...         NaN         0.4931       NaN\n",
              "498  2019-05-03        NaN        NaN  ...        0.21            NaN       NaN\n",
              "499  2019-05-02        NaN        NaN  ...        0.20            NaN       NaN\n",
              "\n",
              "[500 rows x 13 columns]"
            ]
          },
          "metadata": {
            "tags": []
          },
          "execution_count": 162
        }
      ]
    },
    {
      "cell_type": "code",
      "metadata": {
        "id": "AGjsg5bCa4x1"
      },
      "source": [
        ""
      ],
      "execution_count": null,
      "outputs": []
    }
  ]
}